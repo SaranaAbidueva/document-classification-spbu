{
 "cells": [
  {
   "cell_type": "code",
   "execution_count": 1,
   "metadata": {
    "tags": []
   },
   "outputs": [],
   "source": [
    "import pandas as pd\n",
    "import matplotlib.pyplot as plt"
   ]
  },
  {
   "cell_type": "markdown",
   "metadata": {},
   "source": [
    "В файле `data/weather.csv` находит архив погоды в г. Санкт-Петербург с 1 января 2008 года по 31 декабря 2016 года. Файл состоит из двух столбцов - дата (**Day**) и средняя дневная температура в этот день (**t**). Прочитать данные в `pandas` можно с помощью кода:"
   ]
  },
  {
   "cell_type": "code",
   "execution_count": 2,
   "metadata": {},
   "outputs": [],
   "source": [
    "df = pd.read_csv('C:/Users/Admin/ПРОГИ_admin/классификация документов/data/weather.csv', encoding='utf-8', index_col=False, parse_dates=[0])"
   ]
  },
  {
   "cell_type": "code",
   "execution_count": 3,
   "metadata": {},
   "outputs": [
    {
     "data": {
      "text/html": [
       "<div>\n",
       "<style scoped>\n",
       "    .dataframe tbody tr th:only-of-type {\n",
       "        vertical-align: middle;\n",
       "    }\n",
       "\n",
       "    .dataframe tbody tr th {\n",
       "        vertical-align: top;\n",
       "    }\n",
       "\n",
       "    .dataframe thead th {\n",
       "        text-align: right;\n",
       "    }\n",
       "</style>\n",
       "<table border=\"1\" class=\"dataframe\">\n",
       "  <thead>\n",
       "    <tr style=\"text-align: right;\">\n",
       "      <th></th>\n",
       "      <th>Day</th>\n",
       "      <th>t</th>\n",
       "    </tr>\n",
       "  </thead>\n",
       "  <tbody>\n",
       "    <tr>\n",
       "      <th>0</th>\n",
       "      <td>2008-01-01</td>\n",
       "      <td>0</td>\n",
       "    </tr>\n",
       "    <tr>\n",
       "      <th>1</th>\n",
       "      <td>2008-01-02</td>\n",
       "      <td>-5</td>\n",
       "    </tr>\n",
       "    <tr>\n",
       "      <th>2</th>\n",
       "      <td>2008-01-03</td>\n",
       "      <td>-11</td>\n",
       "    </tr>\n",
       "    <tr>\n",
       "      <th>3</th>\n",
       "      <td>2008-01-04</td>\n",
       "      <td>-11</td>\n",
       "    </tr>\n",
       "    <tr>\n",
       "      <th>4</th>\n",
       "      <td>2008-01-05</td>\n",
       "      <td>-12</td>\n",
       "    </tr>\n",
       "  </tbody>\n",
       "</table>\n",
       "</div>"
      ],
      "text/plain": [
       "         Day   t\n",
       "0 2008-01-01   0\n",
       "1 2008-01-02  -5\n",
       "2 2008-01-03 -11\n",
       "3 2008-01-04 -11\n",
       "4 2008-01-05 -12"
      ]
     },
     "execution_count": 3,
     "metadata": {},
     "output_type": "execute_result"
    }
   ],
   "source": [
    "df.head(5)"
   ]
  },
  {
   "cell_type": "code",
   "execution_count": 4,
   "metadata": {},
   "outputs": [
    {
     "data": {
      "text/html": [
       "<div>\n",
       "<style scoped>\n",
       "    .dataframe tbody tr th:only-of-type {\n",
       "        vertical-align: middle;\n",
       "    }\n",
       "\n",
       "    .dataframe tbody tr th {\n",
       "        vertical-align: top;\n",
       "    }\n",
       "\n",
       "    .dataframe thead th {\n",
       "        text-align: right;\n",
       "    }\n",
       "</style>\n",
       "<table border=\"1\" class=\"dataframe\">\n",
       "  <thead>\n",
       "    <tr style=\"text-align: right;\">\n",
       "      <th></th>\n",
       "      <th>Day</th>\n",
       "      <th>t</th>\n",
       "    </tr>\n",
       "  </thead>\n",
       "  <tbody>\n",
       "    <tr>\n",
       "      <th>3280</th>\n",
       "      <td>2016-12-27</td>\n",
       "      <td>1</td>\n",
       "    </tr>\n",
       "    <tr>\n",
       "      <th>3281</th>\n",
       "      <td>2016-12-28</td>\n",
       "      <td>-3</td>\n",
       "    </tr>\n",
       "    <tr>\n",
       "      <th>3282</th>\n",
       "      <td>2016-12-29</td>\n",
       "      <td>0</td>\n",
       "    </tr>\n",
       "    <tr>\n",
       "      <th>3283</th>\n",
       "      <td>2016-12-30</td>\n",
       "      <td>3</td>\n",
       "    </tr>\n",
       "    <tr>\n",
       "      <th>3284</th>\n",
       "      <td>2016-12-31</td>\n",
       "      <td>4</td>\n",
       "    </tr>\n",
       "  </tbody>\n",
       "</table>\n",
       "</div>"
      ],
      "text/plain": [
       "            Day  t\n",
       "3280 2016-12-27  1\n",
       "3281 2016-12-28 -3\n",
       "3282 2016-12-29  0\n",
       "3283 2016-12-30  3\n",
       "3284 2016-12-31  4"
      ]
     },
     "execution_count": 4,
     "metadata": {},
     "output_type": "execute_result"
    }
   ],
   "source": [
    "df.tail()"
   ]
  },
  {
   "cell_type": "markdown",
   "metadata": {},
   "source": [
    "С помощью `Pandas` решите следующие задачи"
   ]
  },
  {
   "cell_type": "markdown",
   "metadata": {},
   "source": [
    "**1.** Определите самый холодный год, в котором среднеяя температура была минимальная и самый теплый год. "
   ]
  },
  {
   "cell_type": "code",
   "execution_count": 5,
   "metadata": {
    "tags": []
   },
   "outputs": [
    {
     "name": "stdout",
     "output_type": "stream",
     "text": [
      "Средняя температура каждого года:\n",
      "   Year         t\n",
      "0  2008  8.545205\n",
      "1  2009  7.610959\n",
      "2  2010  7.117808\n",
      "3  2011  8.337912\n",
      "4  2012  6.980822\n",
      "5  2013  8.728767\n",
      "6  2014  8.931507\n",
      "7  2015  9.079452\n",
      "8  2016  7.907104\n",
      "самый холодный год:  2012\n",
      "самый теплый год:  2015\n"
     ]
    }
   ],
   "source": [
    "# ваш код\n",
    "means_by_year = df.groupby(df.Day.dt.year)['t'].mean().reset_index().rename(columns={'Day':'Year'})\n",
    "print('Средняя температура каждого года:')\n",
    "print(means_by_year)\n",
    "print('самый холодный год: ', means_by_year['Year'].loc[means_by_year['t'].argmin()])\n",
    "print('самый теплый год: ', means_by_year['Year'].loc[means_by_year['t'].argmax()])"
   ]
  },
  {
   "cell_type": "markdown",
   "metadata": {},
   "source": [
    "**2.** Определите год, где в январе было наибольшее число дней с положительной температурой ($\\text{t} \\ge 0$)."
   ]
  },
  {
   "cell_type": "code",
   "execution_count": 6,
   "metadata": {
    "tags": []
   },
   "outputs": [
    {
     "name": "stdout",
     "output_type": "stream",
     "text": [
      "количество дней в январе с положительной температурой по годам\n",
      "   year  count\n",
      "0  2008     19\n",
      "1  2009     11\n",
      "2  2011      5\n",
      "3  2012      6\n",
      "4  2013      5\n",
      "5  2014      8\n",
      "6  2015     14\n",
      "7  2016      5\n",
      "год с наибольшим количеством дней в январе с положительной температурой: 2008\n"
     ]
    }
   ],
   "source": [
    "# ваш код\n",
    "df2 = df.copy()\n",
    "df2['year'] = pd.DatetimeIndex(df['Day']).year\n",
    "df2['month'] = pd.DatetimeIndex(df['Day']).month\n",
    "jan_plus = df2[(df2['month']==1) & (df2['t']>=0)]\n",
    "counts = jan_plus.groupby(jan_plus['year'])['Day'].count().reset_index().rename(columns={'Day':'count'})\n",
    "print('количество дней в январе с положительной температурой по годам')\n",
    "print(counts)\n",
    "print('год с наибольшим количеством дней в январе с положительной температурой:', counts['year'].loc[counts['count'].argmax()])"
   ]
  },
  {
   "cell_type": "markdown",
   "metadata": {},
   "source": [
    "**3.** В каком году было самое холодное лето (по средней температуре)"
   ]
  },
  {
   "cell_type": "code",
   "execution_count": 7,
   "metadata": {
    "tags": []
   },
   "outputs": [
    {
     "name": "stdout",
     "output_type": "stream",
     "text": [
      "средние температуры лета по годам:\n",
      "   year          t\n",
      "0  2008  18.119565\n",
      "1  2009  18.728261\n",
      "2  2010  22.119565\n",
      "3  2011  21.318681\n",
      "4  2012  19.086957\n",
      "5  2013  21.543478\n",
      "6  2014  20.706522\n",
      "7  2015  19.032609\n",
      "8  2016  19.326087\n",
      "самое холодное лето было в  2008  году\n"
     ]
    }
   ],
   "source": [
    "# ваш код\n",
    "summer_df = df2[(df2['month']>=6) & (df2['month']<=8)]\n",
    "means = summer_df.groupby(summer_df['year'])['t'].mean().reset_index()\n",
    "print('средние температуры лета по годам:')\n",
    "print(means)\n",
    "print('самое холодное лето было в ', means['year'].loc[means['t'].argmin()], ' году')"
   ]
  },
  {
   "cell_type": "markdown",
   "metadata": {},
   "source": [
    "**4.** Найдите день с самой большим перепадом температуры, если сравнивать со следующим днем. "
   ]
  },
  {
   "cell_type": "code",
   "execution_count": 8,
   "metadata": {
    "tags": []
   },
   "outputs": [
    {
     "name": "stdout",
     "output_type": "stream",
     "text": [
      "2014-05-26\n"
     ]
    }
   ],
   "source": [
    "# ваш код\n",
    "df3 = df.copy()\n",
    "df3['t_diff'] = df3['t'].diff().abs()\n",
    "# print(df3)\n",
    "print(df3['Day'].loc[df3['t_diff'].argmax() - 1].date())  # -1 т.к. в t_diff разница с предыдущим днем, а не следующим "
   ]
  },
  {
   "cell_type": "markdown",
   "metadata": {},
   "source": [
    "**5.** Постройте график среднегодовых температур (по оси $x$ - год, по оси $y$ - средняя температура в этот год)."
   ]
  },
  {
   "cell_type": "code",
   "execution_count": 10,
   "metadata": {
    "tags": []
   },
   "outputs": [
    {
     "data": {
      "text/plain": [
       "Text(0.5, 1.0, 'Среднегодовые температуры')"
      ]
     },
     "execution_count": 10,
     "metadata": {},
     "output_type": "execute_result"
    },
    {
     "data": {
      "image/png": "[encoded data removed]",
      "text/plain": [
       "<Figure size 640x480 with 1 Axes>"
      ]
     },
     "metadata": {},
     "output_type": "display_data"
    }
   ],
   "source": [
    "# ваш код\n",
    "\n",
    "# из первого задания:\n",
    "# means_by_year = df.groupby(df.Day.dt.year)['t'].mean().reset_index().rename(columns={'Day':'Year'}) \n",
    "plt.plot(means_by_year['Year'], means_by_year['t'])\n",
    "plt.xlabel('год')\n",
    "plt.ylabel('средняя температура')\n",
    "plt.title('Среднегодовые температуры')"
   ]
  }
 ],
 "metadata": {
  "kernelspec": {
   "display_name": "Python 3 (ipykernel)",
   "language": "python",
   "name": "python3"
  },
  "language_info": {
   "codemirror_mode": {
    "name": "ipython",
    "version": 3
   },
   "file_extension": ".py",
   "mimetype": "text/x-python",
   "name": "python",
   "nbconvert_exporter": "python",
   "pygments_lexer": "ipython3",
   "version": "3.9.12"
  }
 },
 "nbformat": 4,
 "nbformat_minor": 4
}
