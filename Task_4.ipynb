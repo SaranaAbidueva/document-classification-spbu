{
 "cells": [
  {
   "cell_type": "markdown",
   "metadata": {},
   "source": [
    "# Задание 4. Линейная регрессия"
   ]
  },
  {
   "cell_type": "markdown",
   "metadata": {},
   "source": [
    "Данные содержатся в файле `data/lin_reg.txt`. Прочитать их можно следующим так:"
   ]
  },
  {
   "cell_type": "code",
   "execution_count": 1,
   "metadata": {},
   "outputs": [],
   "source": [
    "import numpy as np\n",
    "D = np.loadtxt('lin_reg.txt', delimiter=',')\n",
    "X = D[:, :-1]\n",
    "Y = D[:, -1]"
   ]
  },
  {
   "cell_type": "markdown",
   "metadata": {},
   "source": [
    "При выполнении заданий **нельзя** пользоваться `scikit-learn` и т.п., только `NumPy`/`JAX`/`TF`/`PyTorch` и `matplotlib`/`seaborn`/`plotly`/etc.\n",
    "\n",
    "1. Нарисуйте график среднеквадратичной ошибки в зависимости от параметра регуляризации $\\alpha$, используя полные данные для обучения и для тестирования. \n",
    "2. Подготовьте исходные данные для 5 fold CV.\n",
    "3. С помощью CV найдите оптимальное значение $\\alpha$ на какой-нибудь сетке значений.\n",
    "4. Постройте валидационную кривую. \n",
    "5. Постройте кривую обучения."
   ]
  },
  {
   "cell_type": "code",
   "execution_count": 2,
   "metadata": {},
   "outputs": [],
   "source": [
    "import matplotlib.pyplot as plt\n",
    "import seaborn as sns"
   ]
  },
  {
   "cell_type": "markdown",
   "metadata": {},
   "source": [
    "# Полные данные, аналитически"
   ]
  },
  {
   "cell_type": "code",
   "execution_count": 3,
   "metadata": {},
   "outputs": [],
   "source": [
    "def train_test_split(X, Y, train_percent : float =0.25):\n",
    "    p = np.random.permutation(len(X))\n",
    "    X1 = X[p]\n",
    "    Y1 = Y[p]\n",
    "    x_train = []\n",
    "    y_train = []\n",
    "    x_test = []\n",
    "    y_test = []\n",
    "    for i in range(len(X)):\n",
    "        if i % 5 == 0:\n",
    "            x_test.append(X1[i])\n",
    "            y_test.append(Y1[i])\n",
    "        else:\n",
    "            x_train.append(X1[i])\n",
    "            y_train.append(Y1[i])\n",
    "    return np.array(x_train), np.array(y_train), np.array(x_test), np.array(y_test)"
   ]
  },
  {
   "cell_type": "code",
   "execution_count": 4,
   "metadata": {},
   "outputs": [],
   "source": [
    "x_train, y_train, x_test, y_test = train_test_split(X, Y)"
   ]
  },
  {
   "cell_type": "code",
   "execution_count": 5,
   "metadata": {},
   "outputs": [],
   "source": [
    "def Q(X, Y, theta, alpha:float)->float:\n",
    "    l = len(X)\n",
    "    return sum([(Y[i] - X[i] @ theta).T*(Y[i] - X[i] @ theta)  for i in range(l)])/l"
   ]
  },
  {
   "cell_type": "code",
   "execution_count": 6,
   "metadata": {},
   "outputs": [],
   "source": [
    "def find_theta(X, Y, alpha: float)->list:\n",
    "    n = len(X[0])\n",
    "    l = len(X)\n",
    "    theta = np.linalg.inv(X.T @ X + alpha * np.identity(n)) @ X.T @ Y\n",
    "    return theta\n",
    "\n",
    "def solve(x:list, X, Y, alpha:float)->float:\n",
    "    theta = find_theta(X,Y,alpha)\n",
    "    y = np.array(x).T@theta\n",
    "    return y\n",
    "\n",
    "def plot():\n",
    "    alphas = np.arange(0.01, 30, 0.1)\n",
    "    thetas = [find_theta(x_train, y_train, alpha) for alpha in alphas]  # get parameters on train\n",
    "    Qs_train = [Q(x_train, y_train, thetas[i], alphas[i]) for i in range(len(alphas))]  # get loss on train\n",
    "    Qs_test = [Q(x_test, y_test, thetas[i], alphas[i]) for i in range(len(alphas))]  # get loss on test\n",
    "    plt.plot(alphas, Qs_train, label = 'train')\n",
    "    plt.plot(alphas, Qs_test, label = 'test')\n",
    "    plt.title('Среднеквадратичная ошибка')\n",
    "    plt.xlabel('alpha')\n",
    "    plt.ylabel('Q(alpha)')\n",
    "    plt.legend()"
   ]
  },
  {
   "cell_type": "code",
   "execution_count": 7,
   "metadata": {},
   "outputs": [
    {
     "data": {
      "image/png": "[encoded data removed]",
      "text/plain": [
       "<Figure size 432x288 with 1 Axes>"
      ]
     },
     "metadata": {
      "needs_background": "light"
     },
     "output_type": "display_data"
    }
   ],
   "source": [
    "plot()"
   ]
  },
  {
   "cell_type": "markdown",
   "metadata": {},
   "source": [
    "# 5-fold CV, градиентный спуск"
   ]
  },
  {
   "cell_type": "code",
   "execution_count": 8,
   "metadata": {},
   "outputs": [],
   "source": [
    "def lin_reg_grad_descent(x_train, y_train, x_test, y_test, n_iter, lr, alpha):\n",
    "    l, n = x_train.shape\n",
    "    A = np.hstack([np.ones((l, 1)), x_train])\n",
    "    B = np.hstack([np.ones((x_test.shape[0], 1)), x_test])\n",
    "    theta = np.zeros(n + 1)\n",
    "    losses = []\n",
    "    losses_val = []\n",
    "    for _ in range(n_iter):\n",
    "        y_pred = A.dot(theta) \n",
    "        errors = y_train - y_pred\n",
    "        loss = np.mean(errors**2) + alpha * np.sum(theta**2)\n",
    "        grad = -(2 * A.T @ errors + 2*alpha * theta)/l\n",
    "        theta -= lr * grad\n",
    "        losses.append(loss) \n",
    "        loss_val = sum((y_test-B @ theta)**2)/B.shape[0] + alpha * np.sum(theta**2)\n",
    "        losses_val.append(loss_val)\n",
    "    return loss, loss_val"
   ]
  },
  {
   "cell_type": "code",
   "execution_count": 9,
   "metadata": {},
   "outputs": [],
   "source": [
    "# shuffle arrays\n",
    "def cv_grad_lin_reg(X, Y, n_iter, lr, alpha):\n",
    "    np.random.seed(42)\n",
    "    p = np.random.permutation(len(X))\n",
    "    X1 = X[p]\n",
    "    Y1 = Y[p]\n",
    "    X_folds = [[],[],[],[],[]]\n",
    "    Y_folds = [[],[],[],[],[]]\n",
    "    l = len(X)\n",
    "    for i in range(l):\n",
    "        if i % 5 == 0:\n",
    "            X_folds[0].append(X1[i])\n",
    "            Y_folds[0].append(Y1[i])\n",
    "        elif i % 5 == 1:\n",
    "            X_folds[1].append(X1[i])\n",
    "            Y_folds[1].append(Y1[i])\n",
    "        elif i % 5 == 2:\n",
    "            X_folds[2].append(X1[i])\n",
    "            Y_folds[2].append(Y1[i])\n",
    "        elif i % 5 == 3:\n",
    "            X_folds[3].append(X1[i])\n",
    "            Y_folds[3].append(Y1[i])\n",
    "        elif i % 5 == 4:\n",
    "            X_folds[4].append(X1[i])\n",
    "            Y_folds[4].append(Y1[i])\n",
    "\n",
    "    loss_train_all = []\n",
    "    loss_val_all = []\n",
    "    for i in range(5):\n",
    "        x_train_i = [X_folds[j] for j in range(5) if j != i]\n",
    "        y_train_i = [Y_folds[j] for j in range(5) if j != i]\n",
    "        x_test_i = np.array(X_folds[i])\n",
    "        y_test_i = Y_folds[i]\n",
    "        x_train_i = np.reshape(x_train_i, (int(len(X)*4/5),4))\n",
    "        y_train_i = np.reshape(y_train_i, (int(len(X)*4/5),))\n",
    "\n",
    "        x_train_i = (x_train_i - np.mean(x_train_i, axis=0)) / np.std(x_train_i, axis=0)\n",
    "        x_test_i = (x_test_i - np.mean(x_test_i, axis=0)) / np.std(x_test_i, axis=0)\n",
    "        loss_train, loss_val = lin_reg_grad_descent(x_train_i, y_train_i, x_test_i, y_test_i, n_iter, lr, alpha)\n",
    "        loss_train_all.append(loss_train)\n",
    "        loss_val_all.append(loss_val)\n",
    "    loss_train = np.mean(loss_train_all)\n",
    "    loss_val = np.mean(loss_val_all)\n",
    "    return loss_train, loss_val"
   ]
  },
  {
   "cell_type": "code",
   "execution_count": 10,
   "metadata": {},
   "outputs": [
    {
     "name": "stdout",
     "output_type": "stream",
     "text": [
      "train_loss:  111.03880138265986\n",
      "val_loss:  152.28133975196738\n",
      "alpha_opt:  0.001\n"
     ]
    },
    {
     "data": {
      "text/plain": [
       "<matplotlib.legend.Legend at 0x18fa948d640>"
      ]
     },
     "execution_count": 10,
     "metadata": {},
     "output_type": "execute_result"
    },
    {
     "data": {
      "image/png": "[encoded data removed]",
      "text/plain": [
       "<Figure size 432x288 with 1 Axes>"
      ]
     },
     "metadata": {
      "needs_background": "light"
     },
     "output_type": "display_data"
    }
   ],
   "source": [
    "alphas = np.arange(0.001, 0.03, 0.001)\n",
    "loss_train_alphas = []\n",
    "loss_val_alphas = []\n",
    "for alpha in alphas:\n",
    "    loss_train, loss_val = cv_grad_lin_reg(X, Y, 250, 1e-2, alpha)\n",
    "    loss_train_alphas.append(loss_train)\n",
    "    loss_val_alphas.append(loss_val)\n",
    "alpha_opt = alphas[np.argmin(loss_val_alphas)]\n",
    "print('train_loss: ', np.min(loss_train_alphas))\n",
    "print('val_loss: ', np.min(loss_val_alphas))\n",
    "print('alpha_opt: ', alpha_opt)\n",
    "\n",
    "plt.plot(alphas, loss_train_alphas, label='train')\n",
    "plt.plot(alphas, loss_val_alphas, label='val')\n",
    "plt.title('Валидационная кривая')\n",
    "plt.xlabel('alpha')\n",
    "plt.ylabel('loss')\n",
    "plt.legend()"
   ]
  },
  {
   "cell_type": "code",
   "execution_count": 11,
   "metadata": {},
   "outputs": [
    {
     "data": {
      "text/plain": [
       "<matplotlib.legend.Legend at 0x18fa9556d60>"
      ]
     },
     "execution_count": 11,
     "metadata": {},
     "output_type": "execute_result"
    },
    {
     "data": {
      "image/png": "[encoded data removed]",
      "text/plain": [
       "<Figure size 432x288 with 1 Axes>"
      ]
     },
     "metadata": {
      "needs_background": "light"
     },
     "output_type": "display_data"
    }
   ],
   "source": [
    "loss_train_iter = []\n",
    "loss_val_iter = []\n",
    "iters = range(100, 250)\n",
    "for n_iter in iters:\n",
    "    loss_train, loss_val = cv_grad_lin_reg(X, Y, n_iter, 1e-2, alpha_opt)\n",
    "    loss_train_iter.append(loss_train)\n",
    "    loss_val_iter.append(loss_val)\n",
    "plt.plot(iters, loss_train_iter, label ='train')\n",
    "plt.plot(iters, loss_val_iter, label ='val')\n",
    "plt.xlabel('количество итераций')\n",
    "plt.ylabel('loss')\n",
    "plt.legend()"
   ]
  },
  {
   "cell_type": "code",
   "execution_count": null,
   "metadata": {},
   "outputs": [],
   "source": []
  }
 ],
 "metadata": {
  "kernelspec": {
   "display_name": "Python 3 (ipykernel)",
   "language": "python",
   "name": "python3"
  },
  "language_info": {
   "codemirror_mode": {
    "name": "ipython",
    "version": 3
   },
   "file_extension": ".py",
   "mimetype": "text/x-python",
   "name": "python",
   "nbconvert_exporter": "python",
   "pygments_lexer": "ipython3",
   "version": "3.9.12"
  },
  "vscode": {
   "interpreter": {
    "hash": "916dbcbb3f70747c44a77c7bcd40155683ae19c65e1c03b4aa3499c5328201f1"
   }
  }
 },
 "nbformat": 4,
 "nbformat_minor": 4
}
